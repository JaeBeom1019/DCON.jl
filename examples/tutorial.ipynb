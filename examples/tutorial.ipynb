{
 "cells": [
  {
   "cell_type": "markdown",
   "id": "c9550331",
   "metadata": {},
   "source": [
    "## This is example for DCON.jl"
   ]
  },
  {
   "cell_type": "markdown",
   "id": "02323477",
   "metadata": {},
   "source": [
    "**Running `DCON.jl` is currently only supported on x86 Linux systems yet.** \n",
    "\n",
    "If you’re using a different CPU architecture or operating system, please compile DCON manually and place the executable files in the `DCON/executables` directory.  \n",
    "Make sure that a NetCDF output file is successfully generated after execution."
   ]
  },
  {
   "cell_type": "code",
   "execution_count": null,
   "id": "258afdf4",
   "metadata": {},
   "outputs": [
    {
     "name": "stderr",
     "output_type": "stream",
     "text": [
      "\u001b[32m\u001b[1m  Activating\u001b[22m\u001b[39m project at `~/code/DCON`\n"
     ]
    }
   ],
   "source": [
    "import Pkg\n",
    "Pkg.activate(\"..\")\n",
    "Pkg.instantiate()\n",
    "include(\"../src/DCON.jl\")\n",
    "using .DCON"
   ]
  },
  {
   "cell_type": "markdown",
   "id": "3baf724c",
   "metadata": {},
   "source": [
    "### Initializing input variables\n",
    "\n",
    "DCON.jl ini and gfile as an input.  "
   ]
  },
  {
   "cell_type": "code",
   "execution_count": null,
   "id": "79fa3e9e",
   "metadata": {},
   "outputs": [],
   "source": [
    "ini = DCON.Input();\n",
    "gfile_path = \"./../g000000.00000\""
   ]
  },
  {
   "cell_type": "code",
   "execution_count": null,
   "id": "b52591d6",
   "metadata": {},
   "outputs": [],
   "source": []
  },
  {
   "cell_type": "markdown",
   "id": "36c4facb",
   "metadata": {},
   "source": [
    "### Running DCON\n",
    "\n",
    "You can run DCON with function `run_dcon`.  \n",
    "Outputs are dcon_result, and δW.  \n",
    "If δW is negative, it is unstable/ "
   ]
  },
  {
   "cell_type": "code",
   "execution_count": null,
   "id": "2ca2d18a",
   "metadata": {},
   "outputs": [],
   "source": [
    "dcon_result, δW = DCON.run_dcon(ini, gfile_path)"
   ]
  },
  {
   "cell_type": "code",
   "execution_count": null,
   "id": "3e829465",
   "metadata": {},
   "outputs": [],
   "source": [
    "dcon_result, δW = DCON.run_dcon(ini, gfile_path)\n",
    "rdcon_result, Δ = DCON.run_rdcon(ini, gfile_path)\n",
    "stride_result, Δ = DCON.run_stride(ini, gfile_path)\n",
    "dcon, rdcon, stride, ballooning, _, _, _, _ = DCON.run_stability(ini, gfile_path)"
   ]
  },
  {
   "cell_type": "code",
   "execution_count": 4,
   "id": "15d39537",
   "metadata": {},
   "outputs": [
    {
     "name": "stdout",
     "output_type": "stream",
     "text": [
      "/home/aspire1019/code/DCON/inputs\n"
     ]
    },
    {
     "name": "stderr",
     "output_type": "stream",
     "text": [
      "┌ Info: DCON.jl has binary file for your CPU architecture\n",
      "└ @ Main.DCON /home/aspire1019/code/DCON/src/DCON.jl:49\n"
     ]
    },
    {
     "data": {
      "text/plain": [
       "\"./../g000000.00000\""
      ]
     },
     "metadata": {},
     "output_type": "display_data"
    }
   ],
   "source": [
    "ini = DCON.Input();\n",
    "gfile_path = \"./../g000000.00000\""
   ]
  },
  {
   "cell_type": "code",
   "execution_count": 7,
   "id": "963eb09a",
   "metadata": {},
   "outputs": [
    {
     "ename": "UndefVarError",
     "evalue": "UndefVarError: `AbstractTrees` not defined in `Main`\nSuggestion: check for spelling errors or missing imports.\nHint: AbstractTrees is loaded but not imported in the active module Main.",
     "output_type": "error",
     "traceback": [
      "UndefVarError: `AbstractTrees` not defined in `Main`\n",
      "Suggestion: check for spelling errors or missing imports.\n",
      "Hint: AbstractTrees is loaded but not imported in the active module Main.\n",
      "\n",
      "Stacktrace:\n",
      " [1] top-level scope\n",
      "   @ ~/code/DCON/examples/jl_notebook_cell_df34fa98e69747e1a8f8a730347b8e2f_X12sdnNjb2RlLXJlbW90ZQ==.jl:1"
     ]
    }
   ],
   "source": [
    "AbstractTrees.print_tree(ini.dcon)"
   ]
  },
  {
   "cell_type": "code",
   "execution_count": null,
   "id": "a589ff6b",
   "metadata": {},
   "outputs": [],
   "source": []
  }
 ],
 "metadata": {
  "kernelspec": {
   "display_name": "Julia 1.11.2",
   "language": "julia",
   "name": "julia-1.11"
  },
  "language_info": {
   "file_extension": ".jl",
   "mimetype": "application/julia",
   "name": "julia",
   "version": "1.11.2"
  }
 },
 "nbformat": 4,
 "nbformat_minor": 5
}
